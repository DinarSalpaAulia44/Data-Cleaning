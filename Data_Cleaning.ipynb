{
  "nbformat": 4,
  "nbformat_minor": 0,
  "metadata": {
    "colab": {
      "provenance": [],
      "authorship_tag": "ABX9TyNWmbiopSB6NFUT6yeKPp0+",
      "include_colab_link": true
    },
    "kernelspec": {
      "name": "python3",
      "display_name": "Python 3"
    },
    "language_info": {
      "name": "python"
    }
  },
  "cells": [
    {
      "cell_type": "markdown",
      "metadata": {
        "id": "view-in-github",
        "colab_type": "text"
      },
      "source": [
        "<a href=\"https://colab.research.google.com/github/DinarSalpaAulia44/Data-Cleaning/blob/main/Data_Cleaning.ipynb\" target=\"_parent\"><img src=\"https://colab.research.google.com/assets/colab-badge.svg\" alt=\"Open In Colab\"/></a>"
      ]
    },
    {
      "cell_type": "code",
      "execution_count": 61,
      "metadata": {
        "colab": {
          "base_uri": "https://localhost:8080/"
        },
        "id": "tVnjJIerZbMV",
        "outputId": "3018be8d-67ae-41f0-c688-ee666770dde2"
      },
      "outputs": [
        {
          "output_type": "stream",
          "name": "stdout",
          "text": [
            "Requirement already satisfied: pyspark in /usr/local/lib/python3.11/dist-packages (3.5.5)\n",
            "Requirement already satisfied: py4j==0.10.9.7 in /usr/local/lib/python3.11/dist-packages (from pyspark) (0.10.9.7)\n"
          ]
        }
      ],
      "source": [
        "pip install pyspark"
      ]
    },
    {
      "cell_type": "code",
      "source": [
        "from pyspark.sql import SparkSession\n",
        "spark = SparkSession.builder.appName(\"data_transaksi.csv\").getOrCreate()"
      ],
      "metadata": {
        "id": "7dI03LZXZtHJ"
      },
      "execution_count": 62,
      "outputs": []
    },
    {
      "cell_type": "code",
      "source": [
        "df = spark.read.csv('data_transaksi.csv', header=True, inferSchema=True)\n",
        "df.show(10)"
      ],
      "metadata": {
        "colab": {
          "base_uri": "https://localhost:8080/"
        },
        "id": "nWFnTc1aan05",
        "outputId": "ccfac860-7ac4-45dc-c586-c19c991010fb"
      },
      "execution_count": 63,
      "outputs": [
        {
          "output_type": "stream",
          "name": "stdout",
          "text": [
            "+-------+--------------------+-----+----------+-----------------+----------+---------------+\n",
            "|   Nama|               Email| Umur|Pendapatan|Tanggal Pembelian|    Produk|Nilai Transaksi|\n",
            "+-------+--------------------+-----+----------+-----------------+----------+---------------+\n",
            "|Anthony|   dawnday@gmail.com| 24.0|   3553265|       01/13/1974|    Laptop|        2736049|\n",
            "| Robert|    pbrown@gmail.com| NULL|   5525753|       03-05-2004|    Tablet|        4996241|\n",
            "|Melissa| ethan99@clayton.com| NULL|   4911936|       28-04-1970|  Handpone|        3169456|\n",
            "|Timothy|johnsonmegan@gmai...|200.0|3140485039|       03/09/2003|    Laptop|         506622|\n",
            "|  Kelly|keithwebster(at)e...|200.0|3833611071|       17-01-2022|   Tablett|        9969204|\n",
            "|  Jared| qwiggins@hodges.com| 69.0|   8024480|       02-01-2005|   Tablett|        3093351|\n",
            "| Nicole|ogonzalez@hotmail...|200.0|4286346096|       08-01-2024| Handphone|        3007158|\n",
            "|  Mason|lisasmith@hotmail...| NULL|   9858877|       10/12/1994|Smartwatch|        4734266|\n",
            "| Pamela|megancosta@yahoo.com| 39.0|4743642660|       16-08-2011|    Laptop|        8043250|\n",
            "|  Chloe|kelligonzalez@hot...| NULL|3214144288|       10-02-2008| Smartwach|        7845719|\n",
            "+-------+--------------------+-----+----------+-----------------+----------+---------------+\n",
            "only showing top 10 rows\n",
            "\n"
          ]
        }
      ]
    },
    {
      "cell_type": "code",
      "source": [
        "df.printSchema()\n",
        "df.describe().show()\n",
        "df.columns"
      ],
      "metadata": {
        "colab": {
          "base_uri": "https://localhost:8080/"
        },
        "id": "gSSArCiNd0YB",
        "outputId": "0f805785-06db-4391-c41d-5b9b8fe46b6d"
      },
      "execution_count": 64,
      "outputs": [
        {
          "output_type": "stream",
          "name": "stdout",
          "text": [
            "root\n",
            " |-- Nama: string (nullable = true)\n",
            " |-- Email: string (nullable = true)\n",
            " |-- Umur: double (nullable = true)\n",
            " |-- Pendapatan: long (nullable = true)\n",
            " |-- Tanggal Pembelian: string (nullable = true)\n",
            " |-- Produk: string (nullable = true)\n",
            " |-- Nilai Transaksi: integer (nullable = true)\n",
            "\n",
            "+-------+------+-------------------+------------------+--------------------+-----------------+---------+------------------+\n",
            "|summary|  Nama|              Email|              Umur|          Pendapatan|Tanggal Pembelian|   Produk|   Nilai Transaksi|\n",
            "+-------+------+-------------------+------------------+--------------------+-----------------+---------+------------------+\n",
            "|  count|   100|                100|                68|                 100|              100|      100|               100|\n",
            "|   mean|  NULL|               NULL|111.86764705882354|     1.65132351882E9|             NULL|     NULL|        5556026.09|\n",
            "| stddev|  NULL|               NULL| 77.42110175763524|1.8103144429023266E9|             NULL|     NULL|2594395.9001886775|\n",
            "|    min| Aaron|allison19@yahoo.com|              19.0|             3052819|       01-12-2023|Handphone|            506622|\n",
            "|    max|Walter|  ztodd@hotmail.com|             200.0|          4974434132|       31-12-1972|  Tablett|           9969204|\n",
            "+-------+------+-------------------+------------------+--------------------+-----------------+---------+------------------+\n",
            "\n"
          ]
        },
        {
          "output_type": "execute_result",
          "data": {
            "text/plain": [
              "['Nama',\n",
              " 'Email',\n",
              " 'Umur',\n",
              " 'Pendapatan',\n",
              " 'Tanggal Pembelian',\n",
              " 'Produk',\n",
              " 'Nilai Transaksi']"
            ]
          },
          "metadata": {},
          "execution_count": 64
        }
      ]
    },
    {
      "cell_type": "code",
      "source": [
        "df_clean = df.dropDuplicates()"
      ],
      "metadata": {
        "id": "0MvNb5lld-AN"
      },
      "execution_count": 65,
      "outputs": []
    },
    {
      "cell_type": "code",
      "source": [
        "df_clean = df_clean.na.drop()"
      ],
      "metadata": {
        "id": "DZJf0RUod_VD"
      },
      "execution_count": 66,
      "outputs": []
    },
    {
      "cell_type": "code",
      "source": [
        "df_filled = df.fillna({'Nama': 'Unknown', 'Email': 'Null', 'Umur': 0, 'Pendapatan': 0, 'Tanggal Pembelian': 'Null', 'Produk': 'Null', 'Nilai Transaksi': 0})"
      ],
      "metadata": {
        "id": "-OofkxeQ8Rs2"
      },
      "execution_count": 67,
      "outputs": []
    },
    {
      "cell_type": "code",
      "source": [
        "from pyspark.sql.functions import upper\n",
        "df_clean = df_clean.withColumn('Nama', upper(df_clean['Nama']))"
      ],
      "metadata": {
        "id": "jaw8p_u0epp7"
      },
      "execution_count": 68,
      "outputs": []
    },
    {
      "cell_type": "code",
      "source": [
        "from pyspark.sql.functions import col\n",
        "df_clean = df_clean.withColumn('Umur',col('Umur').cast('int'))"
      ],
      "metadata": {
        "id": "1FZTfwwWfJxF"
      },
      "execution_count": 69,
      "outputs": []
    },
    {
      "cell_type": "code",
      "source": [
        "from pyspark.sql.functions import date_format\n",
        "\n",
        "df_clean = df_clean.withColumn(\"Tanggal Pembelian\",\n",
        "                               date_format(\"Tanggal Pembelian\", \"dd-MM-yyyy\"))\n"
      ],
      "metadata": {
        "id": "zrjRz1GUfvHG"
      },
      "execution_count": 70,
      "outputs": []
    },
    {
      "cell_type": "code",
      "source": [
        "df.show(10)"
      ],
      "metadata": {
        "colab": {
          "base_uri": "https://localhost:8080/"
        },
        "id": "g99GBT6Lf4dd",
        "outputId": "f7ace057-4635-4c53-cbf1-056535247e32"
      },
      "execution_count": 71,
      "outputs": [
        {
          "output_type": "stream",
          "name": "stdout",
          "text": [
            "+-------+--------------------+-----+----------+-----------------+----------+---------------+\n",
            "|   Nama|               Email| Umur|Pendapatan|Tanggal Pembelian|    Produk|Nilai Transaksi|\n",
            "+-------+--------------------+-----+----------+-----------------+----------+---------------+\n",
            "|Anthony|   dawnday@gmail.com| 24.0|   3553265|       01/13/1974|    Laptop|        2736049|\n",
            "| Robert|    pbrown@gmail.com| NULL|   5525753|       03-05-2004|    Tablet|        4996241|\n",
            "|Melissa| ethan99@clayton.com| NULL|   4911936|       28-04-1970|  Handpone|        3169456|\n",
            "|Timothy|johnsonmegan@gmai...|200.0|3140485039|       03/09/2003|    Laptop|         506622|\n",
            "|  Kelly|keithwebster(at)e...|200.0|3833611071|       17-01-2022|   Tablett|        9969204|\n",
            "|  Jared| qwiggins@hodges.com| 69.0|   8024480|       02-01-2005|   Tablett|        3093351|\n",
            "| Nicole|ogonzalez@hotmail...|200.0|4286346096|       08-01-2024| Handphone|        3007158|\n",
            "|  Mason|lisasmith@hotmail...| NULL|   9858877|       10/12/1994|Smartwatch|        4734266|\n",
            "| Pamela|megancosta@yahoo.com| 39.0|4743642660|       16-08-2011|    Laptop|        8043250|\n",
            "|  Chloe|kelligonzalez@hot...| NULL|3214144288|       10-02-2008| Smartwach|        7845719|\n",
            "+-------+--------------------+-----+----------+-----------------+----------+---------------+\n",
            "only showing top 10 rows\n",
            "\n"
          ]
        }
      ]
    },
    {
      "cell_type": "code",
      "source": [
        "from pyspark.sql.functions import regexp_replace\n",
        "df = df.withColumn(\"Email\", regexp_replace(\"Email\", r\"\\(at\\)\", \"@\"))\n",
        "df = df.withColumn(\"Tanggal Pembelian\", regexp_replace(\"Tanggal Pembelian\", \"/\", \"-\"))"
      ],
      "metadata": {
        "id": "F_JVse1Sf5Zo"
      },
      "execution_count": 72,
      "outputs": []
    },
    {
      "cell_type": "code",
      "source": [
        "df = df.drop(\"Pendapatan\", \"Nilai Transaksi\")"
      ],
      "metadata": {
        "id": "pIOI_Qz7hhiU"
      },
      "execution_count": 73,
      "outputs": []
    },
    {
      "cell_type": "code",
      "source": [
        "df.show(100)"
      ],
      "metadata": {
        "colab": {
          "base_uri": "https://localhost:8080/"
        },
        "id": "es31jk80hlKV",
        "outputId": "1dab7471-4614-4ddc-b219-9e4c0b3f828a"
      },
      "execution_count": 74,
      "outputs": [
        {
          "output_type": "stream",
          "name": "stdout",
          "text": [
            "+----------+--------------------+-----+-----------------+----------+\n",
            "|      Nama|               Email| Umur|Tanggal Pembelian|    Produk|\n",
            "+----------+--------------------+-----+-----------------+----------+\n",
            "|   Anthony|   dawnday@gmail.com| 24.0|       01-13-1974|    Laptop|\n",
            "|    Robert|    pbrown@gmail.com| NULL|       03-05-2004|    Tablet|\n",
            "|   Melissa| ethan99@clayton.com| NULL|       28-04-1970|  Handpone|\n",
            "|   Timothy|johnsonmegan@gmai...|200.0|       03-09-2003|    Laptop|\n",
            "|     Kelly|keithwebster@emai...|200.0|       17-01-2022|   Tablett|\n",
            "|     Jared| qwiggins@hodges.com| 69.0|       02-01-2005|   Tablett|\n",
            "|    Nicole|ogonzalez@hotmail...|200.0|       08-01-2024| Handphone|\n",
            "|     Mason|lisasmith@hotmail...| NULL|       10-12-1994|Smartwatch|\n",
            "|    Pamela|megancosta@yahoo.com| 39.0|       16-08-2011|    Laptop|\n",
            "|     Chloe|kelligonzalez@hot...| NULL|       10-02-2008| Smartwach|\n",
            "|    Jeanne|    elewis@gmail.com|200.0|       17-06-2004| Handphone|\n",
            "|      Lisa|baileyvickie@hotm...| NULL|       08-17-1993| Headphone|\n",
            "|      Jose|lindseycollins@em...|200.0|       07-07-2021|Smartwatch|\n",
            "|Jacqueline|brianwilliams@yah...| NULL|       07-15-2000|Headphonee|\n",
            "|   Raymond|santiagoscott@ema...|200.0|       07-18-1993|Smartwatch|\n",
            "|    Walter|chapmanalexander@...| NULL|       26-02-2011|    Laptop|\n",
            "|      Gail|    nshort@yahoo.com| NULL|       15-07-1972| Headphone|\n",
            "|   Monique|   hthomas@moore.com|200.0|       06-22-1994|    Laptop|\n",
            "|      Anna| timothy21@gmail.com|200.0|       08-12-2013|   Tablett|\n",
            "|      Tara| amanda77@stuart.com| 37.0|       22-10-1989| Headphone|\n",
            "|      Dawn|  tcabrera@gmail.com| NULL|       10-03-1975| Handphone|\n",
            "|    Lauren|michaelsharp@clar...| 26.0|       11-13-2019|    Laptop|\n",
            "|     Craig|austinbaldwin@hot...| 36.0|       13-08-2022|Smartwatch|\n",
            "|     Peter|fordwilliam@ellio...| 49.0|       12-21-1981|    Laptop|\n",
            "|     April|danny11@ruiz-mart...|200.0|       08-31-1978|  Handpone|\n",
            "|   Michael|   donna21@yahoo.com| NULL|       24-02-1992| Headphone|\n",
            "|      Mike|owensrobert@hotma...| 59.0|       11-28-2004|    Laptop|\n",
            "|    Teresa|smendoza@williams...| NULL|       03-12-1996| Handphone|\n",
            "|    Amanda|melissa50@hotmail...| 45.0|       13-06-2014|Smartwatch|\n",
            "|    Calvin| andre49@hotmail.com| 40.0|       08-29-1973|Smartwatch|\n",
            "|    Alexis|     dgray@gmail.com| NULL|       06-07-2004|    Laptop|\n",
            "|      Rita|osbornejulie@gmai...| 46.0|       01-03-2009| Headphone|\n",
            "|     Amber|angelagibson@hotm...|200.0|       13-12-2005| Headphone|\n",
            "|    Rachel|jjenkins@osborne....| 66.0|       02-08-1993| Smartwach|\n",
            "| Christine|ashley06@ruiz-ham...| NULL|       17-03-1984| Handphone|\n",
            "|     Sheri|arnoldbrett@selle...| 29.0|       08-13-1975| Headphone|\n",
            "|    Morgan|richardsonjonatho...| 68.0|       11-10-2009|    Tablet|\n",
            "|     David|stevenslisa@yahoo...|200.0|       06-03-2002|    Tablet|\n",
            "|    Walter|    sara87@gmail.com| 19.0|       11-07-2015| Handphone|\n",
            "|    Robert|hinessamantha@gma...|200.0|       21-12-2000| Handphone|\n",
            "|     James|    john19@email.com| 42.0|       06-10-1993| Smartwach|\n",
            "|     David|ronaldlittle@gmai...| NULL|       10-12-1986|  Handpone|\n",
            "|    Miguel| jenny18@hotmail.com|200.0|       22-10-1974|    Tablet|\n",
            "|     Laura|   lbailey@gmail.com|200.0|       05-01-2013|Smartwatch|\n",
            "|   Russell|wilsonscott@shaw-...|200.0|       11-16-1977|Smartwatch|\n",
            "| Elizabeth|    umills@yahoo.com| NULL|       12-07-1984|    Laptop|\n",
            "|       Roy|    psmith@gmail.com|200.0|       02-10-1994|Headphonee|\n",
            "|     Bryan|guerreronicolas@h...| 49.0|       02-19-1993| Handphone|\n",
            "|   Matthew|jessicahall@yahoo...| 32.0|       05-22-2000| Headphone|\n",
            "|     Lucas|loganhoward@gmail...| NULL|       02-03-2020|Smartwatch|\n",
            "|   Patrick|zthompson@hotmail...| 59.0|       01-12-2023|    Laptop|\n",
            "|   Cynthia|lonnieandrews@cis...| 49.0|       02-10-2000|   Tablett|\n",
            "|    Daniel|ashley01@lawrence...|200.0|       23-12-1982| Smartwach|\n",
            "|   Shannon|cesardoyle@email.com| 48.0|       14-04-2022|Smartwatch|\n",
            "|    Sandra|williamslaura@san...| NULL|       20-06-2013|  Handpone|\n",
            "|   Annette|omendez@estes-rey...|200.0|       16-03-2003|    Laptop|\n",
            "|    Nicole|thomasglenn@mcgee...| NULL|       11-04-2013| Handphone|\n",
            "|   Rebecca| linlaurie@yahoo.com| 34.0|       10-05-1971|    Tablet|\n",
            "|    Thomas|michelefernandez@...| 36.0|       08-03-2005| Handphone|\n",
            "|      Eric|younglinda@yahoo.com| NULL|       26-02-1972|    Laptop|\n",
            "|     April|   ztodd@hotmail.com| NULL|       28-01-1981|Smartwatch|\n",
            "| Gabrielle|xhinton@murphy-no...|200.0|       31-12-1972|    Tablet|\n",
            "|     Marie|blackgeorge@gmail...|200.0|       25-11-2002|Smartwatch|\n",
            "|   Matthew|davidwilliams@bro...| 70.0|       27-11-2014|  Handpone|\n",
            "|    Debbie| allison19@yahoo.com| 41.0|       24-04-1982|Headphonee|\n",
            "|     Amber|michaelarmstrong@...| 41.0|       15-12-1976| Headphone|\n",
            "|   Madison|wilkinsjuan@email...|200.0|       07-28-1974|    Laptop|\n",
            "|  Benjamin|brittanygreen@mar...|200.0|       17-02-1982|    Tablet|\n",
            "|    Shelly|johngoodwin@perry...| 65.0|       06-21-2002|  Handpone|\n",
            "|   Roberta| brendan46@yahoo.com|200.0|       29-03-1988| Headphone|\n",
            "|     Linda|emily21@mcmillan.org|200.0|       17-06-2010| Handphone|\n",
            "|     Donna|  glennlisa@york.com|200.0|       31-07-1997|   Tablett|\n",
            "|     Aaron|scottjacqueline@l...| 49.0|       08-20-1983|    Laptop|\n",
            "|    Leslie|maysannette@gmail...|200.0|       09-13-1981|Smartwatch|\n",
            "|  Madeline|martinezmario@gma...|200.0|       12-05-1979|Smartwatch|\n",
            "|    Rachel|april12@johnson-a...| NULL|       20-10-2008| Handphone|\n",
            "|   Michele|beckerbrian@gmail...| NULL|       15-05-1981|Smartwatch|\n",
            "|     Scott|theresahardin@hot...| NULL|       01-07-1992|  Handpone|\n",
            "|      Paul|anthony46@rodgers...| NULL|       10-03-1986| Smartwach|\n",
            "|   Heather|   dlandry@email.com| 57.0|       01-20-1986|  Handpone|\n",
            "|   Michael|stuartvasquez@ema...|200.0|       21-12-2005| Handphone|\n",
            "|   Michael|    hsmall@davis.com| NULL|       02-10-1997| Smartwach|\n",
            "|     Bryan|williamsanthony@y...| 65.0|       24-12-1988| Headphone|\n",
            "|    Daniel|   jsmith@meyer.info| 63.0|       09-07-1988| Handphone|\n",
            "|    Joanna|   pwalker@gmail.com| 67.0|       11-19-2010| Handphone|\n",
            "|    Sydney|thomaskrause@mart...| 24.0|       02-10-2012|  Handpone|\n",
            "|      Sean|  ronald86@email.com| 43.0|       09-21-2020|    Laptop|\n",
            "|     James|angela86@hernande...| 21.0|       07-07-1970|    Laptop|\n",
            "|    Jeremy|steelesylvia@case...| 63.0|       14-12-1995|    Laptop|\n",
            "|    Austin|vmcfarland@gmail.com| NULL|       01-21-1997|  Handpone|\n",
            "|    Angela|bmcmahon@hotmail.com| NULL|       07-08-2024|   Tablett|\n",
            "|Jacqueline| webbcraig@gmail.com| NULL|       08-02-2019|Smartwatch|\n",
            "|    Robert| jason16@hotmail.com| 31.0|       05-31-1972| Handphone|\n",
            "| Elizabeth|tylerfinley@yahoo...| 37.0|       02-18-2015|  Handpone|\n",
            "| Stephanie|flin@hicks-craig.com| NULL|       21-10-1974|Headphonee|\n",
            "|  Michelle|      jcox@yahoo.com|200.0|       10-14-1979|  Handpone|\n",
            "|   Christy|courtneybrown@ema...| NULL|       02-03-2019| Headphone|\n",
            "|   Anthony|     ulee@grant.info| NULL|       07-25-1992|    Laptop|\n",
            "|     Bobby|isimpson@brown-se...| 69.0|       02-17-1997|    Tablet|\n",
            "|     Linda|dianagentry@gmail...| NULL|       10-24-2001|    Tablet|\n",
            "+----------+--------------------+-----+-----------------+----------+\n",
            "\n"
          ]
        }
      ]
    }
  ]
}